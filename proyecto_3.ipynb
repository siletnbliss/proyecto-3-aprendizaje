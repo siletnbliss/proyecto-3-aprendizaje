{
  "cells": [
    {
      "cell_type": "markdown",
      "metadata": {
        "id": "8-_6a-l_QrYB"
      },
      "source": [
        "## Project imports"
      ]
    },
    {
      "cell_type": "code",
      "execution_count": 1,
      "metadata": {
        "id": "JvqpCOthQmqN"
      },
      "outputs": [],
      "source": [
        "\"tensorflow 2.9.1\"\n",
        "\n",
        "import numpy as np\n",
        "import pandas as pd\n",
        "import matplotlib.pyplot as plt\n",
        "import os, sys\n",
        "from dotenv import load_dotenv\n",
        "from pip import main\n",
        "import seaborn as sns \n",
        "# Libraries for TensorFlow\n",
        "from tensorflow.keras.utils import to_categorical, plot_model\n",
        "from tensorflow.keras.preprocessing import image\n",
        "from tensorflow.keras import models, layers\n",
        "from tensorflow.keras.layers import Input, Conv2D, Dense, MaxPooling2D, Flatten, BatchNormalization,  Dropout, Concatenate\n",
        "from tensorflow import keras\n",
        "\n",
        "import tensorflow as tf\n",
        "from tensorflow.keras.preprocessing.image import ImageDataGenerator\n",
        "from tensorflow.python.ops.numpy_ops import np_config\n",
        "\n",
        "np_config.enable_numpy_behavior()"
      ]
    },
    {
      "cell_type": "markdown",
      "metadata": {
        "id": "XGSgAW_PQ4bQ"
      },
      "source": [
        "## Config logs and files"
      ]
    },
    {
      "cell_type": "code",
      "execution_count": 2,
      "metadata": {
        "id": "CFrKLY3PRejM"
      },
      "outputs": [],
      "source": [
        "load_dotenv()\n",
        "BASE_PATH = os.environ.get(\"BASE_PATH\")\n",
        "SAVE_PATH = os.path.join(BASE_PATH, 'models_save')\n"
      ]
    },
    {
      "cell_type": "code",
      "execution_count": 3,
      "metadata": {
        "id": "dOvDUFGsPRR6"
      },
      "outputs": [],
      "source": [
        "def make_folder(path, base_path = BASE_PATH):\n",
        "  dir = os.path.join(base_path, path)\n",
        "  if not os.path.exists(dir):\n",
        "    os.makedirs(dir)\n",
        "  return dir "
      ]
    },
    {
      "cell_type": "code",
      "execution_count": 4,
      "metadata": {
        "colab": {
          "base_uri": "https://localhost:8080/"
        },
        "id": "12oWnlZaQ6eW",
        "outputId": "3004cd34-c92b-4e30-a3a8-4437321133ff"
      },
      "outputs": [
        {
          "data": {
            "text/plain": [
              "'.\\\\logs'"
            ]
          },
          "execution_count": 4,
          "metadata": {},
          "output_type": "execute_result"
        }
      ],
      "source": [
        "plt.rcParams['figure.figsize'] = [15, 5]\n",
        "base_log_dir = \"logs\"\n",
        "sns.set_style(\"darkgrid\")\n",
        "make_folder(base_log_dir)\n"
      ]
    },
    {
      "cell_type": "markdown",
      "metadata": {
        "id": "nTOSp_8vRFEY"
      },
      "source": [
        "## Define block layers and callback"
      ]
    },
    {
      "cell_type": "code",
      "execution_count": 5,
      "metadata": {
        "id": "d00B1Pw0RLr0"
      },
      "outputs": [],
      "source": [
        "# Define a callback funcion\n",
        "callback = tf.keras.callbacks.EarlyStopping(\n",
        "    monitor='val_loss',\n",
        "    min_delta=0,\n",
        "    patience=30,\n",
        "    verbose=1,\n",
        "    mode='min',\n",
        "    baseline=None,\n",
        "    restore_best_weights=True\n",
        ")\n",
        "\n",
        "# Define Block\n",
        "def MK_block(input_):\n",
        "    out_1_3 = Conv2D(48,kernel_size=(3,3),activation=\"relu\",padding=\"same\")(input_)\n",
        "    out_1_5 = Conv2D(24,kernel_size=(5,5),activation=\"relu\",padding=\"same\")(input_)\n",
        "    out_1_7 = Conv2D(12,kernel_size=(7,7),activation=\"relu\",padding=\"same\")(input_)\n",
        "\n",
        "    out_1_3_5 = Concatenate()([input_,out_1_3,out_1_5])\n",
        "    out_1_5_7 = Concatenate()([input_,out_1_3,out_1_5,out_1_7])\n",
        "\n",
        "    out_1_b_3 = BatchNormalization()(out_1_3)\n",
        "    out_1_b_3_5 = BatchNormalization()(out_1_3_5)\n",
        "    out_1_b_5_7 = BatchNormalization()(out_1_5_7)\n",
        "\n",
        "    out_2_3 = Conv2D(48,kernel_size=(3,3),activation=\"relu\",padding=\"same\")(out_1_b_3)\n",
        "    out_2_5_2 = Conv2D(24,kernel_size=(5,5),activation=\"relu\",padding=\"same\")(out_1_b_3)\n",
        "    out_2_3 = Concatenate()([input_,out_2_3,out_2_5_2,out_1_b_3])\n",
        "\n",
        "    out_2_5 = Conv2D(36,kernel_size=(5,5),activation=\"relu\",padding=\"same\")(out_1_b_3_5)\n",
        "    out_2_7 = Conv2D(18,kernel_size=(7,7),activation=\"relu\",padding=\"same\")(out_1_b_5_7)\n",
        "\n",
        "    out_3_5_7 = Concatenate()([input_,out_2_5,out_2_7])\n",
        "    out_3_b_5_7 = BatchNormalization()(out_3_5_7)\n",
        "    out_3_b_3 = BatchNormalization()(out_2_3)\n",
        "\n",
        "    out_4_3 = Conv2D(72,kernel_size=(3,3),activation=\"relu\",padding=\"same\")(out_3_b_5_7)\n",
        "    out_4_b_3 = BatchNormalization()(out_4_3)\n",
        "\n",
        "    out  = Concatenate()([input_,out_3_b_3,out_1_b_3,out_1_b_3_5,out_1_b_5_7,out_3_b_5_7,out_4_b_3])\n",
        "    out = Conv2D(24,kernel_size=(1,1), activation=\"relu\",padding=\"same\")(out)\n",
        "    out = BatchNormalization()(out)\n",
        "    out = MaxPooling2D(pool_size=(2,2))(out)\n",
        "\n",
        "    return out"
      ]
    },
    {
      "cell_type": "markdown",
      "metadata": {
        "id": "U-7ka7zcRfd0"
      },
      "source": [
        "## Build model"
      ]
    },
    {
      "cell_type": "markdown",
      "metadata": {},
      "source": [
        "Preexisting model for comparison"
      ]
    },
    {
      "cell_type": "code",
      "execution_count": 6,
      "metadata": {},
      "outputs": [],
      "source": [
        "from tensorflow.keras.applications.inception_v3 import InceptionV3\n",
        "from tensorflow.keras.preprocessing import image\n",
        "from tensorflow.keras.models import Model\n",
        "from tensorflow.keras.layers import Dense, GlobalAveragePooling2D\n",
        "def inception_model():\n",
        "    # create the base pre-trained model\n",
        "    base_model = InceptionV3(weights='imagenet', input_shape= (75,75, 3),  include_top=False)\n",
        "\n",
        "    # add a global spatial average pooling layer\n",
        "    x = base_model.output\n",
        "    x = GlobalAveragePooling2D()(x)\n",
        "    # let's add a fully-connected layer\n",
        "    x = Dense(1024, activation='relu')(x)\n",
        "    # and a logistic layer -- let's say we have 10 classes\n",
        "    predictions = Dense(10, activation='softmax')(x)\n",
        "\n",
        "    # this is the model we will train\n",
        "    model = Model(inputs=base_model.input, outputs=predictions)\n",
        "\n",
        "    # first: train only the top layers (which were randomly initialized)\n",
        "    # i.e. freeze all convolutional InceptionV3 layers\n",
        "    for layer in base_model.layers:\n",
        "        layer.trainable = False\n",
        "\n",
        "    # compile the model (should be done *after* setting layers to non-trainable)\n",
        "    model.compile(optimizer='rmsprop', loss='categorical_crossentropy', metrics=['accuracy'])   \n",
        "    return model "
      ]
    },
    {
      "cell_type": "markdown",
      "metadata": {},
      "source": [
        "block based model"
      ]
    },
    {
      "cell_type": "code",
      "execution_count": 7,
      "metadata": {
        "id": "iwxSsxvcRhzQ"
      },
      "outputs": [],
      "source": [
        "# Define Overall Model\n",
        "def build_model(shape=1, block_model = True):\n",
        "\n",
        "    input_ = Input(shape=(28,28,shape))\n",
        "    input_ = tf.keras.layers.Rescaling(1./255)(input_)\n",
        "    if block_model == False:\n",
        "        return inception_model()\n",
        "    out_d = MK_block(input_)\n",
        "    out_d = MK_block(out_d)\n",
        "    out_d = MK_block(out_d)\n",
        "\n",
        "    flat = Flatten()(out_d)\n",
        "    dr = 0.3\n",
        "\n",
        "    out_d = Dense(256,activation=\"relu\")(flat)\n",
        "    out_d = Dropout(dr)(out_d)\n",
        "    out_d = Dense(128,activation=\"relu\")(out_d)\n",
        "    out_d = Dropout(dr)(out_d)\n",
        "    out_d = Dense(128,activation=\"relu\")(out_d)\n",
        "    out_d = Dropout(dr)(out_d)\n",
        "\n",
        "    out_d = Dense(64,activation=\"relu\")(out_d)\n",
        "    out_d = Dropout(dr)(out_d)\n",
        "\n",
        "    out_d = Dense(10,activation=\"softmax\")(out_d)\n",
        "\n",
        "    model = keras.Model(inputs=input_,outputs=out_d)\n",
        "\n",
        "    keras.utils.plot_model(model,expand_nested=True,show_shapes=True, to_file=\"model.png\",show_dtype=True,show_layer_activations=True)\n",
        "    plt.show()\n",
        "    model.compile(optimizer=keras.optimizers.Adam(learning_rate=0.001),loss='categorical_crossentropy',metrics=['accuracy'])\n",
        "    print(\"Model built successfully.\")\n",
        "    return model"
      ]
    },
    {
      "cell_type": "markdown",
      "metadata": {
        "id": "ShC8Tb62RrTA"
      },
      "source": [
        "## Train model"
      ]
    },
    {
      "cell_type": "code",
      "execution_count": 8,
      "metadata": {
        "id": "w7FpAcs3R9b_"
      },
      "outputs": [],
      "source": [
        "def train_model(model,dir, x_train, y_train,x_test, y_test):\n",
        "    folder = make_folder(dir, SAVE_PATH)\n",
        "    # Changed epochs from 1000 to 10, because it takes 1 hour per epoch \n",
        "    History = model.fit(x_train,y_train,validation_data=(x_test,y_test),batch_size=128,epochs=10,verbose=1, callbacks=[callback])\n",
        "\n",
        "    # Export results as CSV for ploting\n",
        "    hist_df = pd.DataFrame(History.history)\n",
        "    \n",
        "    hist_csv_file = os.path.join(folder, 'history.csv')\n",
        "    with open(hist_csv_file, mode='w') as f:\n",
        "        hist_df.to_csv(f)\n",
        "        \n",
        "    # Save model\n",
        "    model.save(f'{folder}.h5')"
      ]
    },
    {
      "cell_type": "markdown",
      "metadata": {
        "id": "yBseXV6cR_38"
      },
      "source": [
        "## Select and load datasets"
      ]
    },
    {
      "cell_type": "code",
      "execution_count": 9,
      "metadata": {},
      "outputs": [],
      "source": [
        "valid_proportion = 0.2 "
      ]
    },
    {
      "cell_type": "code",
      "execution_count": 10,
      "metadata": {},
      "outputs": [],
      "source": [
        "def show_dataset(x, y):\n",
        "    #class_names = dataset.class_names\n",
        "    plt.figure(figsize=(10, 10))\n",
        "    for i in range(9):\n",
        "        ax = plt.subplot(3, 3, i + 1)\n",
        "        plt.imshow(x[i].astype(\"uint8\"))\n",
        "        # plt.title(y[i])\n",
        "        plt.axis(\"off\")"
      ]
    },
    {
      "cell_type": "code",
      "execution_count": 11,
      "metadata": {
        "colab": {
          "base_uri": "https://localhost:8080/"
        },
        "id": "zyxtJa14dmyU",
        "outputId": "cd15615a-0645-465d-fae6-15ff24cbb120"
      },
      "outputs": [],
      "source": [
        "\n",
        "\n",
        "def load_data(option, block_model = True):\n",
        "    shape = 28 if block_model else 75\n",
        "    if option == 'fashion':\n",
        "        # Load Fashion-MNIST dataset\n",
        "        (x_train_full, y_train_full), (x_test, y_test) = tf.keras.datasets.fashion_mnist.load_data()\n",
        "         # Make sure images have shape (28, 28, 1)\n",
        "        x_train_full = np.expand_dims(x_train_full, -1)\n",
        "        x_test = np.expand_dims(x_test, -1)\n",
        "\n",
        "        if not block_model:\n",
        "            # reshape to (75,  75, 3)\n",
        "            x_train_full = tf.image.resize(x_train_full, [shape,shape])\n",
        "            x_test = tf.image.resize(x_test, [shape,shape])\n",
        "            x_train_full = tf.image.grayscale_to_rgb(x_train_full)\n",
        "            x_test = tf.image.grayscale_to_rgb(x_test)\n",
        "\n",
        "\n",
        "    elif option == 'digit':\n",
        "        # Load MNIST-digit\n",
        "        (x_train_full, y_train_full), (x_test, y_test) = keras.datasets.mnist.load_data()\n",
        "         # Make sure images have shape (28, 28, 1)\n",
        "        x_train_full = np.expand_dims(x_train_full, -1)\n",
        "        x_test = np.expand_dims(x_test, -1)\n",
        "        if not block_model:\n",
        "            # reshape to (75,  75, 3)\n",
        "            x_train_full = tf.image.resize(x_train_full, [shape,shape])\n",
        "            x_test = tf.image.resize(x_test, [shape,shape])\n",
        "            x_train_full = tf.image.grayscale_to_rgb(x_train_full)\n",
        "            x_test = tf.image.grayscale_to_rgb(x_test)\n",
        "\n",
        "\n",
        "    elif option == 'cifar10':\n",
        "        # Load CIFAR-10 small images\n",
        "        (x_train_full, y_train_full), (x_test, y_test) = keras.datasets.cifar10.load_data()\n",
        "         # Make sure images have shape (28, 28, 1)\n",
        "        x_train_full = tf.image.resize(x_train_full, [shape,shape])\n",
        "        x_test = tf.image.resize(x_test, [shape,shape])\n",
        " \n",
        "    else:\n",
        "        pass\n",
        "    # convert class vectors to binary class matrices\n",
        "    y_train_full = keras.utils.to_categorical(y_train_full, 10)\n",
        "    y_test = keras.utils.to_categorical(y_test, 10)\n",
        "    x_valid, x_train = np.split(x_train_full, [int(valid_proportion * len(x_train_full))]  )\n",
        "    y_valid, y_train = np.split(y_train_full, [int(valid_proportion * len(y_train_full))]  )   \n",
        "    show_dataset(x_train, y_train)\n",
        "    print(\"x_train shape:\", x_train.shape)\n",
        "    print(x_train.shape[0], \"train samples\")\n",
        "    print(x_test.shape[0], \"test samples\")\n",
        "    print(x_valid.shape[0], \"validation samples\")\n",
        "    return x_train, y_train, x_valid, y_valid, x_test, y_test\n",
        "\n"
      ]
    },
    {
      "cell_type": "markdown",
      "metadata": {},
      "source": [
        "select dataset for  training:\n",
        " \n",
        "    1) digit\n",
        "\n",
        "    2) fashion\n",
        "\n",
        "    3) cifar10\n",
        "\n",
        "\n",
        "select model type:\n",
        "\n",
        "    true) block based\n",
        "    \n",
        "    false) inception v3\n",
        "\n"
      ]
    },
    {
      "cell_type": "code",
      "execution_count": 12,
      "metadata": {},
      "outputs": [],
      "source": [
        "options = {\n",
        "    '1':['digit',1],\n",
        "    '2':['fashion', 1],\n",
        "    '3':['cifar10', 3]\n",
        "}\n",
        "chosen = '3'\n",
        "block_model = True \n",
        "load_model = True"
      ]
    },
    {
      "cell_type": "code",
      "execution_count": 13,
      "metadata": {},
      "outputs": [
        {
          "name": "stdout",
          "output_type": "stream",
          "text": [
            "x_train shape: (40000, 28, 28, 3)\n",
            "40000 train samples\n",
            "10000 test samples\n",
            "10000 validation samples\n"
          ]
        },
        {
          "data": {
            "image/png": "[encoded data removed]",
            "text/plain": [
              "<Figure size 720x720 with 9 Axes>"
            ]
          },
          "metadata": {
            "needs_background": "light"
          },
          "output_type": "display_data"
        }
      ],
      "source": [
        "dataset, shape = options[chosen]\n",
        "dataset_model = f\"{dataset}-{'block' if block_model else 'inception'}\"\n",
        "\n",
        "x_train, y_train, x_valid, y_valid, x_test, y_test = load_data(dataset, block_model)\n",
        "\n",
        "# Pre Processing\n",
        "x_train = x_train.astype(\"float32\") / 255\n",
        "x_test = x_test.astype(\"float32\") / 255\n",
        "x_valid = x_valid.astype(\"float32\") / 255\n",
        "\n",
        "if load_model:\n",
        "    model = keras.models.load_model(os.path.join(SAVE_PATH, f'{dataset_model}.h5'))\n",
        "else:\n",
        "    model = build_model(shape, block_model)\n"
      ]
    },
    {
      "cell_type": "code",
      "execution_count": 14,
      "metadata": {},
      "outputs": [
        {
          "name": "stdout",
          "output_type": "stream",
          "text": [
            "Model: \"model_6\"\n",
            "__________________________________________________________________________________________________\n",
            " Layer (type)                   Output Shape         Param #     Connected to                     \n",
            "==================================================================================================\n",
            " input_22 (InputLayer)          [(None, 28, 28, 3)]  0           []                               \n",
            "                                                                                                  \n",
            " conv2d_497 (Conv2D)            (None, 28, 28, 48)   1344        ['input_22[0][0]']               \n",
            "                                                                                                  \n",
            " conv2d_498 (Conv2D)            (None, 28, 28, 24)   1824        ['input_22[0][0]']               \n",
            "                                                                                                  \n",
            " conv2d_499 (Conv2D)            (None, 28, 28, 12)   1776        ['input_22[0][0]']               \n",
            "                                                                                                  \n",
            " concatenate_25 (Concatenate)   (None, 28, 28, 75)   0           ['input_22[0][0]',               \n",
            "                                                                  'conv2d_497[0][0]',             \n",
            "                                                                  'conv2d_498[0][0]']             \n",
            "                                                                                                  \n",
            " concatenate_26 (Concatenate)   (None, 28, 28, 87)   0           ['input_22[0][0]',               \n",
            "                                                                  'conv2d_497[0][0]',             \n",
            "                                                                  'conv2d_498[0][0]',             \n",
            "                                                                  'conv2d_499[0][0]']             \n",
            "                                                                                                  \n",
            " batch_normalization_492 (Batch  (None, 28, 28, 75)  300         ['concatenate_25[0][0]']         \n",
            " Normalization)                                                                                   \n",
            "                                                                                                  \n",
            " batch_normalization_493 (Batch  (None, 28, 28, 87)  348         ['concatenate_26[0][0]']         \n",
            " Normalization)                                                                                   \n",
            "                                                                                                  \n",
            " conv2d_502 (Conv2D)            (None, 28, 28, 36)   67536       ['batch_normalization_492[0][0]']\n",
            "                                                                                                  \n",
            " conv2d_503 (Conv2D)            (None, 28, 28, 18)   76752       ['batch_normalization_493[0][0]']\n",
            "                                                                                                  \n",
            " batch_normalization_491 (Batch  (None, 28, 28, 48)  192         ['conv2d_497[0][0]']             \n",
            " Normalization)                                                                                   \n",
            "                                                                                                  \n",
            " concatenate_28 (Concatenate)   (None, 28, 28, 57)   0           ['input_22[0][0]',               \n",
            "                                                                  'conv2d_502[0][0]',             \n",
            "                                                                  'conv2d_503[0][0]']             \n",
            "                                                                                                  \n",
            " conv2d_500 (Conv2D)            (None, 28, 28, 48)   20784       ['batch_normalization_491[0][0]']\n",
            "                                                                                                  \n",
            " conv2d_501 (Conv2D)            (None, 28, 28, 24)   28824       ['batch_normalization_491[0][0]']\n",
            "                                                                                                  \n",
            " batch_normalization_494 (Batch  (None, 28, 28, 57)  228         ['concatenate_28[0][0]']         \n",
            " Normalization)                                                                                   \n",
            "                                                                                                  \n",
            " concatenate_27 (Concatenate)   (None, 28, 28, 123)  0           ['input_22[0][0]',               \n",
            "                                                                  'conv2d_500[0][0]',             \n",
            "                                                                  'conv2d_501[0][0]',             \n",
            "                                                                  'batch_normalization_491[0][0]']\n",
            "                                                                                                  \n",
            " conv2d_504 (Conv2D)            (None, 28, 28, 72)   37008       ['batch_normalization_494[0][0]']\n",
            "                                                                                                  \n",
            " batch_normalization_495 (Batch  (None, 28, 28, 123)  492        ['concatenate_27[0][0]']         \n",
            " Normalization)                                                                                   \n",
            "                                                                                                  \n",
            " batch_normalization_496 (Batch  (None, 28, 28, 72)  288         ['conv2d_504[0][0]']             \n",
            " Normalization)                                                                                   \n",
            "                                                                                                  \n",
            " concatenate_29 (Concatenate)   (None, 28, 28, 465)  0           ['input_22[0][0]',               \n",
            "                                                                  'batch_normalization_495[0][0]',\n",
            "                                                                  'batch_normalization_491[0][0]',\n",
            "                                                                  'batch_normalization_492[0][0]',\n",
            "                                                                  'batch_normalization_493[0][0]',\n",
            "                                                                  'batch_normalization_494[0][0]',\n",
            "                                                                  'batch_normalization_496[0][0]']\n",
            "                                                                                                  \n",
            " conv2d_505 (Conv2D)            (None, 28, 28, 24)   11184       ['concatenate_29[0][0]']         \n",
            "                                                                                                  \n",
            " batch_normalization_497 (Batch  (None, 28, 28, 24)  96          ['conv2d_505[0][0]']             \n",
            " Normalization)                                                                                   \n",
            "                                                                                                  \n",
            " max_pooling2d_23 (MaxPooling2D  (None, 14, 14, 24)  0           ['batch_normalization_497[0][0]']\n",
            " )                                                                                                \n",
            "                                                                                                  \n",
            " conv2d_506 (Conv2D)            (None, 14, 14, 48)   10416       ['max_pooling2d_23[0][0]']       \n",
            "                                                                                                  \n",
            " conv2d_507 (Conv2D)            (None, 14, 14, 24)   14424       ['max_pooling2d_23[0][0]']       \n",
            "                                                                                                  \n",
            " conv2d_508 (Conv2D)            (None, 14, 14, 12)   14124       ['max_pooling2d_23[0][0]']       \n",
            "                                                                                                  \n",
            " concatenate_30 (Concatenate)   (None, 14, 14, 96)   0           ['max_pooling2d_23[0][0]',       \n",
            "                                                                  'conv2d_506[0][0]',             \n",
            "                                                                  'conv2d_507[0][0]']             \n",
            "                                                                                                  \n",
            " concatenate_31 (Concatenate)   (None, 14, 14, 108)  0           ['max_pooling2d_23[0][0]',       \n",
            "                                                                  'conv2d_506[0][0]',             \n",
            "                                                                  'conv2d_507[0][0]',             \n",
            "                                                                  'conv2d_508[0][0]']             \n",
            "                                                                                                  \n",
            " batch_normalization_499 (Batch  (None, 14, 14, 96)  384         ['concatenate_30[0][0]']         \n",
            " Normalization)                                                                                   \n",
            "                                                                                                  \n",
            " batch_normalization_500 (Batch  (None, 14, 14, 108)  432        ['concatenate_31[0][0]']         \n",
            " Normalization)                                                                                   \n",
            "                                                                                                  \n",
            " conv2d_511 (Conv2D)            (None, 14, 14, 36)   86436       ['batch_normalization_499[0][0]']\n",
            "                                                                                                  \n",
            " conv2d_512 (Conv2D)            (None, 14, 14, 18)   95274       ['batch_normalization_500[0][0]']\n",
            "                                                                                                  \n",
            " batch_normalization_498 (Batch  (None, 14, 14, 48)  192         ['conv2d_506[0][0]']             \n",
            " Normalization)                                                                                   \n",
            "                                                                                                  \n",
            " concatenate_33 (Concatenate)   (None, 14, 14, 78)   0           ['max_pooling2d_23[0][0]',       \n",
            "                                                                  'conv2d_511[0][0]',             \n",
            "                                                                  'conv2d_512[0][0]']             \n",
            "                                                                                                  \n",
            " conv2d_509 (Conv2D)            (None, 14, 14, 48)   20784       ['batch_normalization_498[0][0]']\n",
            "                                                                                                  \n",
            " conv2d_510 (Conv2D)            (None, 14, 14, 24)   28824       ['batch_normalization_498[0][0]']\n",
            "                                                                                                  \n",
            " batch_normalization_501 (Batch  (None, 14, 14, 78)  312         ['concatenate_33[0][0]']         \n",
            " Normalization)                                                                                   \n",
            "                                                                                                  \n",
            " concatenate_32 (Concatenate)   (None, 14, 14, 144)  0           ['max_pooling2d_23[0][0]',       \n",
            "                                                                  'conv2d_509[0][0]',             \n",
            "                                                                  'conv2d_510[0][0]',             \n",
            "                                                                  'batch_normalization_498[0][0]']\n",
            "                                                                                                  \n",
            " conv2d_513 (Conv2D)            (None, 14, 14, 72)   50616       ['batch_normalization_501[0][0]']\n",
            "                                                                                                  \n",
            " batch_normalization_502 (Batch  (None, 14, 14, 144)  576        ['concatenate_32[0][0]']         \n",
            " Normalization)                                                                                   \n",
            "                                                                                                  \n",
            " batch_normalization_503 (Batch  (None, 14, 14, 72)  288         ['conv2d_513[0][0]']             \n",
            " Normalization)                                                                                   \n",
            "                                                                                                  \n",
            " concatenate_34 (Concatenate)   (None, 14, 14, 570)  0           ['max_pooling2d_23[0][0]',       \n",
            "                                                                  'batch_normalization_502[0][0]',\n",
            "                                                                  'batch_normalization_498[0][0]',\n",
            "                                                                  'batch_normalization_499[0][0]',\n",
            "                                                                  'batch_normalization_500[0][0]',\n",
            "                                                                  'batch_normalization_501[0][0]',\n",
            "                                                                  'batch_normalization_503[0][0]']\n",
            "                                                                                                  \n",
            " conv2d_514 (Conv2D)            (None, 14, 14, 24)   13704       ['concatenate_34[0][0]']         \n",
            "                                                                                                  \n",
            " batch_normalization_504 (Batch  (None, 14, 14, 24)  96          ['conv2d_514[0][0]']             \n",
            " Normalization)                                                                                   \n",
            "                                                                                                  \n",
            " max_pooling2d_24 (MaxPooling2D  (None, 7, 7, 24)    0           ['batch_normalization_504[0][0]']\n",
            " )                                                                                                \n",
            "                                                                                                  \n",
            " conv2d_515 (Conv2D)            (None, 7, 7, 48)     10416       ['max_pooling2d_24[0][0]']       \n",
            "                                                                                                  \n",
            " conv2d_516 (Conv2D)            (None, 7, 7, 24)     14424       ['max_pooling2d_24[0][0]']       \n",
            "                                                                                                  \n",
            " conv2d_517 (Conv2D)            (None, 7, 7, 12)     14124       ['max_pooling2d_24[0][0]']       \n",
            "                                                                                                  \n",
            " concatenate_35 (Concatenate)   (None, 7, 7, 96)     0           ['max_pooling2d_24[0][0]',       \n",
            "                                                                  'conv2d_515[0][0]',             \n",
            "                                                                  'conv2d_516[0][0]']             \n",
            "                                                                                                  \n",
            " concatenate_36 (Concatenate)   (None, 7, 7, 108)    0           ['max_pooling2d_24[0][0]',       \n",
            "                                                                  'conv2d_515[0][0]',             \n",
            "                                                                  'conv2d_516[0][0]',             \n",
            "                                                                  'conv2d_517[0][0]']             \n",
            "                                                                                                  \n",
            " batch_normalization_506 (Batch  (None, 7, 7, 96)    384         ['concatenate_35[0][0]']         \n",
            " Normalization)                                                                                   \n",
            "                                                                                                  \n",
            " batch_normalization_507 (Batch  (None, 7, 7, 108)   432         ['concatenate_36[0][0]']         \n",
            " Normalization)                                                                                   \n",
            "                                                                                                  \n",
            " conv2d_520 (Conv2D)            (None, 7, 7, 36)     86436       ['batch_normalization_506[0][0]']\n",
            "                                                                                                  \n",
            " conv2d_521 (Conv2D)            (None, 7, 7, 18)     95274       ['batch_normalization_507[0][0]']\n",
            "                                                                                                  \n",
            " batch_normalization_505 (Batch  (None, 7, 7, 48)    192         ['conv2d_515[0][0]']             \n",
            " Normalization)                                                                                   \n",
            "                                                                                                  \n",
            " concatenate_38 (Concatenate)   (None, 7, 7, 78)     0           ['max_pooling2d_24[0][0]',       \n",
            "                                                                  'conv2d_520[0][0]',             \n",
            "                                                                  'conv2d_521[0][0]']             \n",
            "                                                                                                  \n",
            " conv2d_518 (Conv2D)            (None, 7, 7, 48)     20784       ['batch_normalization_505[0][0]']\n",
            "                                                                                                  \n",
            " conv2d_519 (Conv2D)            (None, 7, 7, 24)     28824       ['batch_normalization_505[0][0]']\n",
            "                                                                                                  \n",
            " batch_normalization_508 (Batch  (None, 7, 7, 78)    312         ['concatenate_38[0][0]']         \n",
            " Normalization)                                                                                   \n",
            "                                                                                                  \n",
            " concatenate_37 (Concatenate)   (None, 7, 7, 144)    0           ['max_pooling2d_24[0][0]',       \n",
            "                                                                  'conv2d_518[0][0]',             \n",
            "                                                                  'conv2d_519[0][0]',             \n",
            "                                                                  'batch_normalization_505[0][0]']\n",
            "                                                                                                  \n",
            " conv2d_522 (Conv2D)            (None, 7, 7, 72)     50616       ['batch_normalization_508[0][0]']\n",
            "                                                                                                  \n",
            " batch_normalization_509 (Batch  (None, 7, 7, 144)   576         ['concatenate_37[0][0]']         \n",
            " Normalization)                                                                                   \n",
            "                                                                                                  \n",
            " batch_normalization_510 (Batch  (None, 7, 7, 72)    288         ['conv2d_522[0][0]']             \n",
            " Normalization)                                                                                   \n",
            "                                                                                                  \n",
            " concatenate_39 (Concatenate)   (None, 7, 7, 570)    0           ['max_pooling2d_24[0][0]',       \n",
            "                                                                  'batch_normalization_509[0][0]',\n",
            "                                                                  'batch_normalization_505[0][0]',\n",
            "                                                                  'batch_normalization_506[0][0]',\n",
            "                                                                  'batch_normalization_507[0][0]',\n",
            "                                                                  'batch_normalization_508[0][0]',\n",
            "                                                                  'batch_normalization_510[0][0]']\n",
            "                                                                                                  \n",
            " conv2d_523 (Conv2D)            (None, 7, 7, 24)     13704       ['concatenate_39[0][0]']         \n",
            "                                                                                                  \n",
            " batch_normalization_511 (Batch  (None, 7, 7, 24)    96          ['conv2d_523[0][0]']             \n",
            " Normalization)                                                                                   \n",
            "                                                                                                  \n",
            " max_pooling2d_25 (MaxPooling2D  (None, 3, 3, 24)    0           ['batch_normalization_511[0][0]']\n",
            " )                                                                                                \n",
            "                                                                                                  \n",
            " flatten_1 (Flatten)            (None, 216)          0           ['max_pooling2d_25[0][0]']       \n",
            "                                                                                                  \n",
            " dense_15 (Dense)               (None, 256)          55552       ['flatten_1[0][0]']              \n",
            "                                                                                                  \n",
            " dropout_4 (Dropout)            (None, 256)          0           ['dense_15[0][0]']               \n",
            "                                                                                                  \n",
            " dense_16 (Dense)               (None, 128)          32896       ['dropout_4[0][0]']              \n",
            "                                                                                                  \n",
            " dropout_5 (Dropout)            (None, 128)          0           ['dense_16[0][0]']               \n",
            "                                                                                                  \n",
            " dense_17 (Dense)               (None, 128)          16512       ['dropout_5[0][0]']              \n",
            "                                                                                                  \n",
            " dropout_6 (Dropout)            (None, 128)          0           ['dense_17[0][0]']               \n",
            "                                                                                                  \n",
            " dense_18 (Dense)               (None, 64)           8256        ['dropout_6[0][0]']              \n",
            "                                                                                                  \n",
            " dropout_7 (Dropout)            (None, 64)           0           ['dense_18[0][0]']               \n",
            "                                                                                                  \n",
            " dense_19 (Dense)               (None, 10)           650         ['dropout_7[0][0]']              \n",
            "                                                                                                  \n",
            "==================================================================================================\n",
            "Total params: 1,036,606\n",
            "Trainable params: 1,033,354\n",
            "Non-trainable params: 3,252\n",
            "__________________________________________________________________________________________________\n"
          ]
        }
      ],
      "source": [
        "model.summary()"
      ]
    },
    {
      "cell_type": "code",
      "execution_count": 15,
      "metadata": {},
      "outputs": [],
      "source": [
        "if not load_model:\n",
        "    train_model(model, dataset_model,  x_train, y_train, x_valid, y_valid)\n"
      ]
    },
    {
      "cell_type": "code",
      "execution_count": 16,
      "metadata": {},
      "outputs": [
        {
          "name": "stdout",
          "output_type": "stream",
          "text": [
            "313/313 [==============================] - 125s 396ms/step - loss: 0.8614 - accuracy: 0.7397\n"
          ]
        },
        {
          "data": {
            "text/plain": [
              "[0.8614205121994019, 0.7397000193595886]"
            ]
          },
          "execution_count": 16,
          "metadata": {},
          "output_type": "execute_result"
        }
      ],
      "source": [
        "model.evaluate(x_test, y_test)"
      ]
    }
  ],
  "metadata": {
    "colab": {
      "name": "proyecto 3.ipynb",
      "provenance": []
    },
    "kernelspec": {
      "display_name": "Python 3.10.5 64-bit",
      "language": "python",
      "name": "python3"
    },
    "language_info": {
      "codemirror_mode": {
        "name": "ipython",
        "version": 3
      },
      "file_extension": ".py",
      "mimetype": "text/x-python",
      "name": "python",
      "nbconvert_exporter": "python",
      "pygments_lexer": "ipython3",
      "version": "3.10.5"
    },
    "vscode": {
      "interpreter": {
        "hash": "3c479ce452e979c4f6d41a58d0cae1b30566a0d163ae05752dd832cc75b9518d"
      }
    }
  },
  "nbformat": 4,
  "nbformat_minor": 0
}
